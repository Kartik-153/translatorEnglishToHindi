{
 "cells": [
  {
   "cell_type": "markdown",
   "id": "77846ae0",
   "metadata": {},
   "source": [
    "# Data Preprocessing"
   ]
  },
  {
   "cell_type": "code",
   "execution_count": 1,
   "id": "51e1d7b3",
   "metadata": {},
   "outputs": [],
   "source": [
    "import pandas as pd \n",
    "import numpy as np\n",
    "import re\n",
    "import seaborn as sns\n",
    "import matplotlib.pyplot as plt\n",
    "from collections import defaultdict\n",
    "from datasets import load_dataset"
   ]
  },
  {
   "cell_type": "code",
   "execution_count": 22,
   "id": "bf43d114",
   "metadata": {},
   "outputs": [
    {
     "data": {
      "text/html": [
       "<div>\n",
       "<style scoped>\n",
       "    .dataframe tbody tr th:only-of-type {\n",
       "        vertical-align: middle;\n",
       "    }\n",
       "\n",
       "    .dataframe tbody tr th {\n",
       "        vertical-align: top;\n",
       "    }\n",
       "\n",
       "    .dataframe thead th {\n",
       "        text-align: right;\n",
       "    }\n",
       "</style>\n",
       "<table border=\"1\" class=\"dataframe\">\n",
       "  <thead>\n",
       "    <tr style=\"text-align: right;\">\n",
       "      <th></th>\n",
       "      <th>hindi</th>\n",
       "      <th>english</th>\n",
       "    </tr>\n",
       "  </thead>\n",
       "  <tbody>\n",
       "    <tr>\n",
       "      <th>1561821</th>\n",
       "      <td>आप शीघ्र ही विधिक पेशे के कॉरपोरेट विधि,न्यायि...</td>\n",
       "      <td>You would soon join different branches of the ...</td>\n",
       "    </tr>\n",
       "    <tr>\n",
       "      <th>1561822</th>\n",
       "      <td>Y = धारा 143 की उपधारा (1) के खंड (क) के अधीन ...</td>\n",
       "      <td>Y = the amount of tax calculated on the total ...</td>\n",
       "    </tr>\n",
       "    <tr>\n",
       "      <th>1561823</th>\n",
       "      <td>(म) \"वास्तविक और प्रथम आविष्कर्ता\" के अंतर्गत ...</td>\n",
       "      <td>(y) \"true and first inventor\" does not include...</td>\n",
       "    </tr>\n",
       "    <tr>\n",
       "      <th>1561824</th>\n",
       "      <td>जाकिर साहब यह मानते थे कि जामिया बिरादरी के जह...</td>\n",
       "      <td>Zakir saheb conceded that this objective was s...</td>\n",
       "    </tr>\n",
       "    <tr>\n",
       "      <th>1561825</th>\n",
       "      <td>(यक) \"विशेष आर्थिक जोन\" से धारा 3 की उपधारा (4...</td>\n",
       "      <td>(za) \"Special Economic Zone\" means each Specia...</td>\n",
       "    </tr>\n",
       "    <tr>\n",
       "      <th>1561826</th>\n",
       "      <td>(यग) \"यूनिट\" से किसी विशेष आर्थिक जोन में किसी...</td>\n",
       "      <td>(zc) \"Unit\" means a Unit set up by an entrepre...</td>\n",
       "    </tr>\n",
       "    <tr>\n",
       "      <th>1561827</th>\n",
       "      <td>(यछ) \"प्रतिभूति रसीद\" से कोर्इ रसीद या अन्य प्...</td>\n",
       "      <td>(zg) \"security receipt\" means a receipt or oth...</td>\n",
       "    </tr>\n",
       "    <tr>\n",
       "      <th>1561828</th>\n",
       "      <td>जोनलः रू. 0.50 लाख के प्रत्येक वार्षिक पुरस्का...</td>\n",
       "      <td>Zonal: Eleven annual awards of ₹ 0.50 lakh eac...</td>\n",
       "    </tr>\n",
       "    <tr>\n",
       "      <th>1561829</th>\n",
       "      <td>इस्लाम से पहले करोड़ों लोगों के इस पारसी धर्म ...</td>\n",
       "      <td>Zoroastrianism, which was once the religion of...</td>\n",
       "    </tr>\n",
       "    <tr>\n",
       "      <th>1561830</th>\n",
       "      <td>(य) \"प्रतिभूतिकरण\" से किसी प्रतिभूतिकरण कंपनी ...</td>\n",
       "      <td>(z) \"securitisation\" means acquisition of fina...</td>\n",
       "    </tr>\n",
       "    <tr>\n",
       "      <th>1561831</th>\n",
       "      <td>राष्ट्रपति जी ने कहा कि जुबिन मेहता संगीत को श...</td>\n",
       "      <td>ZUBIN MEHTA HAS ENGAGED IN UNTIRING EFFORTS TO...</td>\n",
       "    </tr>\n",
       "    <tr>\n",
       "      <th>1561832</th>\n",
       "      <td>जुबिन मेहता के संगीत में सीमाओं के आर-पार पहुं...</td>\n",
       "      <td>Zubin Mehta’s music has the power to transcend...</td>\n",
       "    </tr>\n",
       "    <tr>\n",
       "      <th>1561833</th>\n",
       "      <td>सितम्बर, 2014में दिल्ली में फिन-नोड केंद्र की ...</td>\n",
       "      <td>कते हैं। Opening of a Fin-Node Centre in Delhi...</td>\n",
       "    </tr>\n",
       "    <tr>\n",
       "      <th>1561834</th>\n",
       "      <td>भारत अपनी 64 प्रतिशत कार्यशील आयु समूह आबादी क...</td>\n",
       "      <td>प्राप्त होगी। By 2020, India is set to become ...</td>\n",
       "    </tr>\n",
       "    <tr>\n",
       "      <th>1561835</th>\n",
       "      <td>Members making oath/affirmation</td>\n",
       "      <td>शपथ लेने/प्रतिज्ञान करने वाले सदस्य</td>\n",
       "    </tr>\n",
       "    <tr>\n",
       "      <th>1561836</th>\n",
       "      <td>स्पष्टीकरण.–जहां इस उपधारा के अधीन हानि और लाभ...</td>\n",
       "      <td>स्पष्टीकरण.–जहां इस उपधारा के अधीन हानि और लाभ...</td>\n",
       "    </tr>\n",
       "    <tr>\n",
       "      <th>1561837</th>\n",
       "      <td>मैंने गौर किया है कि यह न केवल अपने महत्त्वपूर...</td>\n",
       "      <td>है। I note that this is a landmark meeting – n...</td>\n",
       "    </tr>\n",
       "    <tr>\n",
       "      <th>1561838</th>\n",
       "      <td>उन्होंने मेरे समक्ष जो प्रदर्शन किया उसमें से ...</td>\n",
       "      <td>है। In the presentations that they made before...</td>\n",
       "    </tr>\n",
       "    <tr>\n",
       "      <th>1561839</th>\n",
       "      <td>खाद्य और जल सुरक्षा; पर्यावरण की दृष्टि से वहन...</td>\n",
       "      <td>्त है। Issues such as food and water security;...</td>\n",
       "    </tr>\n",
       "    <tr>\n",
       "      <th>1561840</th>\n",
       "      <td>NaN</td>\n",
       "      <td>NaN</td>\n",
       "    </tr>\n",
       "  </tbody>\n",
       "</table>\n",
       "</div>"
      ],
      "text/plain": [
       "                                                     hindi  \\\n",
       "1561821  आप शीघ्र ही विधिक पेशे के कॉरपोरेट विधि,न्यायि...   \n",
       "1561822  Y = धारा 143 की उपधारा (1) के खंड (क) के अधीन ...   \n",
       "1561823  (म) \"वास्तविक और प्रथम आविष्कर्ता\" के अंतर्गत ...   \n",
       "1561824  जाकिर साहब यह मानते थे कि जामिया बिरादरी के जह...   \n",
       "1561825  (यक) \"विशेष आर्थिक जोन\" से धारा 3 की उपधारा (4...   \n",
       "1561826  (यग) \"यूनिट\" से किसी विशेष आर्थिक जोन में किसी...   \n",
       "1561827  (यछ) \"प्रतिभूति रसीद\" से कोर्इ रसीद या अन्य प्...   \n",
       "1561828  जोनलः रू. 0.50 लाख के प्रत्येक वार्षिक पुरस्का...   \n",
       "1561829  इस्लाम से पहले करोड़ों लोगों के इस पारसी धर्म ...   \n",
       "1561830  (य) \"प्रतिभूतिकरण\" से किसी प्रतिभूतिकरण कंपनी ...   \n",
       "1561831  राष्ट्रपति जी ने कहा कि जुबिन मेहता संगीत को श...   \n",
       "1561832  जुबिन मेहता के संगीत में सीमाओं के आर-पार पहुं...   \n",
       "1561833  सितम्बर, 2014में दिल्ली में फिन-नोड केंद्र की ...   \n",
       "1561834  भारत अपनी 64 प्रतिशत कार्यशील आयु समूह आबादी क...   \n",
       "1561835                    Members making oath/affirmation   \n",
       "1561836  स्पष्टीकरण.–जहां इस उपधारा के अधीन हानि और लाभ...   \n",
       "1561837  मैंने गौर किया है कि यह न केवल अपने महत्त्वपूर...   \n",
       "1561838  उन्होंने मेरे समक्ष जो प्रदर्शन किया उसमें से ...   \n",
       "1561839  खाद्य और जल सुरक्षा; पर्यावरण की दृष्टि से वहन...   \n",
       "1561840                                                NaN   \n",
       "\n",
       "                                                   english  \n",
       "1561821  You would soon join different branches of the ...  \n",
       "1561822  Y = the amount of tax calculated on the total ...  \n",
       "1561823  (y) \"true and first inventor\" does not include...  \n",
       "1561824  Zakir saheb conceded that this objective was s...  \n",
       "1561825  (za) \"Special Economic Zone\" means each Specia...  \n",
       "1561826  (zc) \"Unit\" means a Unit set up by an entrepre...  \n",
       "1561827  (zg) \"security receipt\" means a receipt or oth...  \n",
       "1561828  Zonal: Eleven annual awards of ₹ 0.50 lakh eac...  \n",
       "1561829  Zoroastrianism, which was once the religion of...  \n",
       "1561830  (z) \"securitisation\" means acquisition of fina...  \n",
       "1561831  ZUBIN MEHTA HAS ENGAGED IN UNTIRING EFFORTS TO...  \n",
       "1561832  Zubin Mehta’s music has the power to transcend...  \n",
       "1561833  कते हैं। Opening of a Fin-Node Centre in Delhi...  \n",
       "1561834  प्राप्त होगी। By 2020, India is set to become ...  \n",
       "1561835                शपथ लेने/प्रतिज्ञान करने वाले सदस्य  \n",
       "1561836  स्पष्टीकरण.–जहां इस उपधारा के अधीन हानि और लाभ...  \n",
       "1561837  है। I note that this is a landmark meeting – n...  \n",
       "1561838  है। In the presentations that they made before...  \n",
       "1561839  ्त है। Issues such as food and water security;...  \n",
       "1561840                                                NaN  "
      ]
     },
     "execution_count": 22,
     "metadata": {},
     "output_type": "execute_result"
    }
   ],
   "source": [
    "df = pd.read_csv(\"D:/Hindi to English dataset/hindi_english_parallel.csv\")\n",
    "df.tail(20)"
   ]
  },
  {
   "cell_type": "code",
   "execution_count": 23,
   "id": "392ed70b",
   "metadata": {},
   "outputs": [
    {
     "data": {
      "text/plain": [
       "(1561841, 2)"
      ]
     },
     "execution_count": 23,
     "metadata": {},
     "output_type": "execute_result"
    }
   ],
   "source": [
    "df.shape"
   ]
  },
  {
   "cell_type": "code",
   "execution_count": 5,
   "id": "d3eb9475",
   "metadata": {},
   "outputs": [
    {
     "name": "stdout",
     "output_type": "stream",
     "text": [
      "<class 'pandas.core.frame.DataFrame'>\n",
      "RangeIndex: 1561841 entries, 0 to 1561840\n",
      "Data columns (total 2 columns):\n",
      " #   Column   Non-Null Count    Dtype \n",
      "---  ------   --------------    ----- \n",
      " 0   hindi    1555784 non-null  object\n",
      " 1   english  1560964 non-null  object\n",
      "dtypes: object(2)\n",
      "memory usage: 23.8+ MB\n"
     ]
    }
   ],
   "source": [
    "df.info()"
   ]
  },
  {
   "cell_type": "code",
   "execution_count": 6,
   "id": "62acab12",
   "metadata": {},
   "outputs": [
    {
     "data": {
      "text/plain": [
       "pandas.core.frame.DataFrame"
      ]
     },
     "execution_count": 6,
     "metadata": {},
     "output_type": "execute_result"
    }
   ],
   "source": [
    "type(df)"
   ]
  },
  {
   "cell_type": "code",
   "execution_count": 7,
   "id": "0afd674c",
   "metadata": {},
   "outputs": [
    {
     "data": {
      "text/plain": [
       "hindi      6057\n",
       "english     877\n",
       "dtype: int64"
      ]
     },
     "execution_count": 7,
     "metadata": {},
     "output_type": "execute_result"
    }
   ],
   "source": [
    "df.isnull().sum()"
   ]
  },
  {
   "cell_type": "code",
   "execution_count": 8,
   "id": "45abfc86",
   "metadata": {},
   "outputs": [],
   "source": [
    "hindi_words = defaultdict(int)"
   ]
  },
  {
   "cell_type": "code",
   "execution_count": 9,
   "id": "7f429cee",
   "metadata": {},
   "outputs": [
    {
     "name": "stdout",
     "output_type": "stream",
     "text": [
      "1561841\n"
     ]
    }
   ],
   "source": [
    "print(len(df))"
   ]
  },
  {
   "cell_type": "code",
   "execution_count": 10,
   "id": "f15ea345",
   "metadata": {},
   "outputs": [
    {
     "data": {
      "text/html": [
       "<div>\n",
       "<style scoped>\n",
       "    .dataframe tbody tr th:only-of-type {\n",
       "        vertical-align: middle;\n",
       "    }\n",
       "\n",
       "    .dataframe tbody tr th {\n",
       "        vertical-align: top;\n",
       "    }\n",
       "\n",
       "    .dataframe thead th {\n",
       "        text-align: right;\n",
       "    }\n",
       "</style>\n",
       "<table border=\"1\" class=\"dataframe\">\n",
       "  <thead>\n",
       "    <tr style=\"text-align: right;\">\n",
       "      <th></th>\n",
       "      <th>count</th>\n",
       "      <th>unique</th>\n",
       "      <th>top</th>\n",
       "      <th>freq</th>\n",
       "    </tr>\n",
       "  </thead>\n",
       "  <tbody>\n",
       "    <tr>\n",
       "      <th>hindi</th>\n",
       "      <td>1555784</td>\n",
       "      <td>983938</td>\n",
       "      <td>Name</td>\n",
       "      <td>1093</td>\n",
       "    </tr>\n",
       "    <tr>\n",
       "      <th>english</th>\n",
       "      <td>1560964</td>\n",
       "      <td>1015944</td>\n",
       "      <td>Your names</td>\n",
       "      <td>363</td>\n",
       "    </tr>\n",
       "  </tbody>\n",
       "</table>\n",
       "</div>"
      ],
      "text/plain": [
       "           count   unique         top  freq\n",
       "hindi    1555784   983938        Name  1093\n",
       "english  1560964  1015944  Your names   363"
      ]
     },
     "execution_count": 10,
     "metadata": {},
     "output_type": "execute_result"
    }
   ],
   "source": [
    "df.describe().T"
   ]
  },
  {
   "cell_type": "code",
   "execution_count": 11,
   "id": "53081d28",
   "metadata": {},
   "outputs": [
    {
     "name": "stdout",
     "output_type": "stream",
     "text": [
      "अपने अनुप्रयोग को पहुंचनीयता व्यायाम का लाभ दें\n"
     ]
    }
   ],
   "source": [
    "hindi_text = df.loc[0,'hindi']\n",
    "print(hindi_text)"
   ]
  },
  {
   "cell_type": "code",
   "execution_count": 12,
   "id": "f0055b13",
   "metadata": {},
   "outputs": [],
   "source": [
    "def replace_special_char(text):\n",
    "    pattern = r'[!@#\\$%^&*()_+{}\\[\\]:\";<>,.?~\\\\|/-]+'\n",
    "    cleaned_text = re.sub(pattern, ' ', text)\n",
    "    cleaned_text = cleaned_text.strip()\n",
    "    return cleaned_text"
   ]
  },
  {
   "cell_type": "code",
   "execution_count": 13,
   "id": "c6d171cb",
   "metadata": {},
   "outputs": [],
   "source": [
    "def contains_alphabet(word):\n",
    "    for char in word:\n",
    "        if char in 'abcdefghijklmnopqrstuvwxyz' or char in 'ABCDEFGHIJKLMNOPQLSTUVWXYZ' or char in \"01123456789\":\n",
    "            return True\n",
    "    return False   "
   ]
  },
  {
   "cell_type": "code",
   "execution_count": 15,
   "id": "9288aa0d",
   "metadata": {},
   "outputs": [],
   "source": [
    "for i in range(len(df)):\n",
    "    hindi_text = df.loc[i, 'hindi']\n",
    "    if not pd.isna(hindi_text):\n",
    "        words = hindi_text.split()\n",
    "        for word in words:\n",
    "            if word and word[0].isalpha() and word[0] != '(' and not contains_alphabet(word):\n",
    "                clean_word = replace_special_char(word)\n",
    "                hindi_words[clean_word] += 1"
   ]
  },
  {
   "cell_type": "code",
   "execution_count": 16,
   "id": "ace29cbf",
   "metadata": {},
   "outputs": [
    {
     "ename": "SyntaxError",
     "evalue": "incomplete input (2267080308.py, line 6)",
     "output_type": "error",
     "traceback": [
      "\u001b[1;36m  Cell \u001b[1;32mIn[16], line 6\u001b[1;36m\u001b[0m\n\u001b[1;33m    \u001b[0m\n\u001b[1;37m    ^\u001b[0m\n\u001b[1;31mSyntaxError\u001b[0m\u001b[1;31m:\u001b[0m incomplete input\n"
     ]
    }
   ],
   "source": [
    "# def clean_sentence(sentences):\n",
    "#     for i in range(len(sentences)):\n",
    "#         hindi_text = df.loc[i, 'hindi']\n",
    "#         words = hindi_text.split()\n",
    "#         for word in words:\n",
    "            "
   ]
  },
  {
   "cell_type": "code",
   "execution_count": 17,
   "id": "8172b903",
   "metadata": {},
   "outputs": [
    {
     "name": "stdout",
     "output_type": "stream",
     "text": [
      "          Hindi_word  Frequency\n",
      "0               अपने     124928\n",
      "1          अनुप्रयोग       3945\n",
      "2                 को     513225\n",
      "3         पहुंचनीयता         96\n",
      "4            व्यायाम        515\n",
      "...              ...        ...\n",
      "370601       है अनेक          1\n",
      "370602         काँपी          1\n",
      "370603  विधि न्यायिक          1\n",
      "370604         जोनलः          1\n",
      "370605     प्रोद्धरण          1\n",
      "\n",
      "[370606 rows x 2 columns]\n"
     ]
    }
   ],
   "source": [
    "hindi_words_df = pd.DataFrame(hindi_words.items(), columns=['Hindi_word', 'Frequency'])\n",
    "print(hindi_words_df)"
   ]
  },
  {
   "cell_type": "code",
   "execution_count": 18,
   "id": "3aee9dfd",
   "metadata": {},
   "outputs": [
    {
     "name": "stdout",
     "output_type": "stream",
     "text": [
      "   Hindi_word  Frequency\n",
      "0        अपने     124928\n",
      "1   अनुप्रयोग       3945\n",
      "2          को     513225\n",
      "3  पहुंचनीयता         96\n",
      "4     व्यायाम        515\n"
     ]
    }
   ],
   "source": [
    "print(hindi_words_df.head())"
   ]
  },
  {
   "cell_type": "code",
   "execution_count": 19,
   "id": "2dc05b92",
   "metadata": {},
   "outputs": [
    {
     "name": "stdout",
     "output_type": "stream",
     "text": [
      "   Hindi_word  Frequency\n",
      "12         के    1155918\n",
      "42         और     898132\n",
      "28         है     823207\n",
      "55        में     802409\n",
      "20         की     681835\n"
     ]
    }
   ],
   "source": [
    "print(hindi_words_df.sort_values(by='Frequency', ascending=False).head())"
   ]
  },
  {
   "cell_type": "code",
   "execution_count": 20,
   "id": "75c20d0f",
   "metadata": {},
   "outputs": [
    {
     "name": "stdout",
     "output_type": "stream",
     "text": [
      "Total Words 33375767\n"
     ]
    }
   ],
   "source": [
    "total_frequency  = hindi_words_df['Frequency'].sum()\n",
    "print(f\"Total Words {total_frequency}\")"
   ]
  },
  {
   "cell_type": "code",
   "execution_count": 25,
   "id": "acfed61b",
   "metadata": {},
   "outputs": [
    {
     "name": "stdout",
     "output_type": "stream",
     "text": [
      "hindi      6057\n",
      "english     877\n",
      "dtype: int64\n"
     ]
    },
    {
     "data": {
      "text/plain": [
       "(1555574, 2)"
      ]
     },
     "execution_count": 25,
     "metadata": {},
     "output_type": "execute_result"
    }
   ],
   "source": [
    "print(df.isna().sum())\n",
    "df.dropna(inplace=True)\n",
    "df.reset_index(inplace=True)\n",
    "df.drop(columns=[\"index\"], inplace=True)\n",
    "df.shape"
   ]
  },
  {
   "cell_type": "code",
   "execution_count": null,
   "id": "99845729",
   "metadata": {},
   "outputs": [],
   "source": []
  }
 ],
 "metadata": {
  "kernelspec": {
   "display_name": "Python 3 (ipykernel)",
   "language": "python",
   "name": "python3"
  },
  "language_info": {
   "codemirror_mode": {
    "name": "ipython",
    "version": 3
   },
   "file_extension": ".py",
   "mimetype": "text/x-python",
   "name": "python",
   "nbconvert_exporter": "python",
   "pygments_lexer": "ipython3",
   "version": "3.11.3"
  }
 },
 "nbformat": 4,
 "nbformat_minor": 5
}
